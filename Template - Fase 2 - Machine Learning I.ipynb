{
  "cells": [
    {
      "cell_type": "markdown",
      "metadata": {
        "id": "TFk4fMcdRhSs"
      },
      "source": [
        "#Machine Learning I - Fase 2 - Template\n",
        "\n",
        "Nome: Felipe Pinheiro Fossá\n",
        "\n",
        "## Aplicação e validação de algoritmos de Machine Learning\n",
        "\n",
        "Nesta fase, o objetivo é usar os dados preparados na fase anterior para construir um classificador binário. Se for necessário selecionar ainda mais os atributos para que o classificador funcione melhor, comente as suas escolhas e a necessidade desse novo filtro.\n",
        "\n",
        "Experimente ao menos 4 dos algoritmos vistos em aula para classificação. Obrigatoriamente, dentre esses 4 você deve incluir **Árvores de Decisão** e **MultiLayer Perceptron**. Explore os hiperparâmetros dos algoritmos visando a obtenção de melhores resultados.\n"
      ]
    },
    {
      "cell_type": "markdown",
      "metadata": {},
      "source": [
        "> Importando bibliotecas\n"
      ]
    },
    {
      "cell_type": "code",
      "execution_count": 46,
      "metadata": {},
      "outputs": [],
      "source": [
        "# Importação das bibliotecas necessárias\n",
        "import pandas as pd\n",
        "import numpy as np\n",
        "import matplotlib.pyplot as plt\n",
        "import seaborn as sns\n",
        "\n",
        "from sklearn.model_selection import train_test_split, GridSearchCV, cross_validate\n",
        "from sklearn.preprocessing import OneHotEncoder, StandardScaler\n",
        "from sklearn.compose import ColumnTransformer\n",
        "from sklearn.pipeline import Pipeline\n",
        "from sklearn.metrics import classification_report, confusion_matrix\n",
        "\n",
        "from sklearn.tree import DecisionTreeClassifier\n",
        "from sklearn.neural_network import MLPClassifier\n",
        "from sklearn.ensemble import RandomForestClassifier\n",
        "from sklearn.linear_model import LogisticRegression\n"
      ]
    },
    {
      "cell_type": "markdown",
      "metadata": {},
      "source": [
        "> Carregamento e preparação dos dados\n"
      ]
    },
    {
      "cell_type": "code",
      "execution_count": null,
      "metadata": {},
      "outputs": [
        {
          "name": "stdout",
          "output_type": "stream",
          "text": [
            "Antes do tratamento: (783, 8)\n",
            "Valores nulos por coluna:\n",
            " Survived      0\n",
            "Pclass       67\n",
            "Sex          67\n",
            "Age         106\n",
            "SibSp         0\n",
            "Parch         0\n",
            "Fare          0\n",
            "Embarked     69\n",
            "dtype: int64\n",
            "\n",
            "Depois do tratamento: (783, 8)\n",
            "Valores nulos por coluna:\n",
            " Survived    0\n",
            "Pclass      0\n",
            "Sex         0\n",
            "Age         0\n",
            "SibSp       0\n",
            "Parch       0\n",
            "Fare        0\n",
            "Embarked    0\n",
            "dtype: int64\n"
          ]
        }
      ],
      "source": [
        "# Leitura do dataset\n",
        "df = pd.read_csv(\"dataset_fase1.csv\")\n",
        "\n",
        "# Fase 01 - Tratamentos corrigidos\n",
        "# Tratamento de valores nulos \n",
        "print(\"Antes do tratamento:\", df.shape)\n",
        "print(\"Valores nulos por coluna:\\n\", df.isnull().sum())\n",
        "\n",
        "# Estratégias de preenchimento\n",
        "df[\"Age\"].fillna(df[\"Age\"].median(), inplace=True)  # preencher idade com a mediana\n",
        "df[\"Embarked\"].fillna(df[\"Embarked\"].mode()[0], inplace=True)  # preencher embarque com moda\n",
        "df[\"Pclass\"].fillna(df[\"Pclass\"].mode()[0], inplace=True)  # preencher classe com moda\n",
        "df[\"Sex\"].fillna(df[\"Sex\"].mode()[0], inplace=True)  # preencher sexo com moda\n",
        "\n",
        "print(\"\\nDepois do tratamento:\", df.shape)\n",
        "print(\"Valores nulos por coluna:\\n\", df.isnull().sum())\n",
        "\n"
      ]
    },
    {
      "cell_type": "markdown",
      "metadata": {},
      "source": [
        "> 1.1 Criação dos modelos Árvore de decisão, MLP e mais dois algoritmos de sua escolha\n"
      ]
    },
    {
      "cell_type": "code",
      "execution_count": 48,
      "metadata": {},
      "outputs": [
        {
          "name": "stdout",
          "output_type": "stream",
          "text": [
            "Modelos criados: ['DecisionTree', 'MLP', 'RandomForest', 'LogisticRegression']\n"
          ]
        }
      ],
      "source": [
        "# Definição dos atributos\n",
        "num_features = [\"Age\", \"Fare\", \"Parch\", \"Pclass\", \"SibSp\"]\n",
        "cat_features = [\"Sex\", \"Embarked\"]\n",
        "\n",
        "X = df[num_features + cat_features]\n",
        "y = df[\"Survived\"]\n",
        "\n",
        "# Pré-processamento: normalização e codificação\n",
        "preprocessor = ColumnTransformer(\n",
        "    transformers=[\n",
        "        (\"num\", StandardScaler(), num_features),\n",
        "        (\"cat\", OneHotEncoder(handle_unknown=\"ignore\"), cat_features),\n",
        "    ]\n",
        ")\n",
        "\n",
        "# Modelos definidos\n",
        "models = {\n",
        "    \"DecisionTree\": Pipeline([(\"prep\", preprocessor), (\"clf\", DecisionTreeClassifier(random_state=42))]),\n",
        "    \"MLP\": Pipeline([(\"prep\", preprocessor), (\"clf\", MLPClassifier(max_iter=1000, random_state=42))]),\n",
        "    \"RandomForest\": Pipeline([(\"prep\", preprocessor), (\"clf\", RandomForestClassifier(random_state=42))]),\n",
        "    \"LogisticRegression\": Pipeline([(\"prep\", preprocessor), (\"clf\", LogisticRegression(max_iter=1000, random_state=42))]),\n",
        "}\n",
        "\n",
        "print(\"Modelos criados:\", list(models.keys()))\n"
      ]
    },
    {
      "cell_type": "markdown",
      "metadata": {},
      "source": [
        "> 1.2 Definição do cojunto de hiper-parâmetros a serem explorados (use GridSearch)\n"
      ]
    },
    {
      "cell_type": "code",
      "execution_count": 49,
      "metadata": {},
      "outputs": [
        {
          "name": "stdout",
          "output_type": "stream",
          "text": [
            "Grades de hiperparâmetros definidas.\n"
          ]
        }
      ],
      "source": [
        "# Grades de hiperparâmetros para GridSearch\n",
        "param_grids = {\n",
        "    \"DecisionTree\": {\"clf__max_depth\": [3, 5, 7, None], \"clf__min_samples_split\": [2, 5, 10]},\n",
        "    \"MLP\": {\"clf__hidden_layer_sizes\": [(50,), (100,), (50,50)], \"clf__activation\": [\"tanh\", \"relu\"]},\n",
        "    \"RandomForest\": {\"clf__n_estimators\": [50, 100], \"clf__max_depth\": [5, 10, None]},\n",
        "    \"LogisticRegression\": {\"clf__C\": [0.1, 1.0, 10.0], \"clf__solver\": [\"liblinear\", \"lbfgs\"]},\n",
        "}\n",
        "\n",
        "print(\"Grades de hiperparâmetros definidas.\")\n"
      ]
    },
    {
      "cell_type": "markdown",
      "metadata": {
        "id": "oqmo-smcZ63Y"
      },
      "source": [
        "#2) Divisão dos subconjunto de dados de treino e teste, com estratificação\n",
        "\n",
        "Agora, você precisa dividir os dados em subconjuntos de treino e teste. Para isso, você também deve fazer a divisão com a estratificação da coluna alvo.\n",
        "\n",
        "O treinamento e teste devem ser feitos usando a técnica de validação cruzada.\n"
      ]
    },
    {
      "cell_type": "markdown",
      "metadata": {},
      "source": [
        "> 2.1 Divisão do dataset em treino e teste, com estratificação\n"
      ]
    },
    {
      "cell_type": "code",
      "execution_count": 51,
      "metadata": {},
      "outputs": [
        {
          "name": "stdout",
          "output_type": "stream",
          "text": [
            "Tamanho treino: (626, 7)  | Tamanho teste: (157, 7)\n",
            "Distribuição treino: {False: 0.5830670926517572, True: 0.4169329073482428}\n",
            "Distribuição teste: {False: 0.5796178343949044, True: 0.42038216560509556}\n"
          ]
        }
      ],
      "source": [
        "X_train, X_test, y_train, y_test = train_test_split(\n",
        "    X, y, test_size=0.2, stratify=y, random_state=42\n",
        ")\n",
        "\n",
        "print(\"Tamanho treino:\", X_train.shape, \" | Tamanho teste:\", X_test.shape)\n",
        "print(\"Distribuição treino:\", y_train.value_counts(normalize=True).to_dict())\n",
        "print(\"Distribuição teste:\", y_test.value_counts(normalize=True).to_dict())\n"
      ]
    },
    {
      "cell_type": "markdown",
      "metadata": {},
      "source": [
        "> 2.2 Execução do treinamento e validação com Cross-Validation\n"
      ]
    },
    {
      "cell_type": "code",
      "execution_count": 52,
      "metadata": {},
      "outputs": [
        {
          "data": {
            "text/html": [
              "<div>\n",
              "<style scoped>\n",
              "    .dataframe tbody tr th:only-of-type {\n",
              "        vertical-align: middle;\n",
              "    }\n",
              "\n",
              "    .dataframe tbody tr th {\n",
              "        vertical-align: top;\n",
              "    }\n",
              "\n",
              "    .dataframe thead th {\n",
              "        text-align: right;\n",
              "    }\n",
              "</style>\n",
              "<table border=\"1\" class=\"dataframe\">\n",
              "  <thead>\n",
              "    <tr style=\"text-align: right;\">\n",
              "      <th></th>\n",
              "      <th>accuracy</th>\n",
              "      <th>precision</th>\n",
              "      <th>recall</th>\n",
              "      <th>f1</th>\n",
              "    </tr>\n",
              "  </thead>\n",
              "  <tbody>\n",
              "    <tr>\n",
              "      <th>DecisionTree</th>\n",
              "      <td>0.721</td>\n",
              "      <td>0.662</td>\n",
              "      <td>0.675</td>\n",
              "      <td>0.667</td>\n",
              "    </tr>\n",
              "    <tr>\n",
              "      <th>MLP</th>\n",
              "      <td>0.762</td>\n",
              "      <td>0.756</td>\n",
              "      <td>0.640</td>\n",
              "      <td>0.687</td>\n",
              "    </tr>\n",
              "    <tr>\n",
              "      <th>RandomForest</th>\n",
              "      <td>0.773</td>\n",
              "      <td>0.746</td>\n",
              "      <td>0.690</td>\n",
              "      <td>0.715</td>\n",
              "    </tr>\n",
              "    <tr>\n",
              "      <th>LogisticRegression</th>\n",
              "      <td>0.730</td>\n",
              "      <td>0.728</td>\n",
              "      <td>0.571</td>\n",
              "      <td>0.637</td>\n",
              "    </tr>\n",
              "  </tbody>\n",
              "</table>\n",
              "</div>"
            ],
            "text/plain": [
              "                    accuracy  precision  recall     f1\n",
              "DecisionTree           0.721      0.662   0.675  0.667\n",
              "MLP                    0.762      0.756   0.640  0.687\n",
              "RandomForest           0.773      0.746   0.690  0.715\n",
              "LogisticRegression     0.730      0.728   0.571  0.637"
            ]
          },
          "execution_count": 52,
          "metadata": {},
          "output_type": "execute_result"
        }
      ],
      "source": [
        "scoring = [\"accuracy\", \"precision\", \"recall\", \"f1\"]\n",
        "cv_results = {}\n",
        "\n",
        "for name, model in models.items():\n",
        "    results = cross_validate(model, X_train, y_train, cv=5, scoring=scoring)\n",
        "    cv_results[name] = {metric: results[f\"test_{metric}\"].mean() for metric in scoring}\n",
        "\n",
        "cv_df = pd.DataFrame(cv_results).T.round(3)\n",
        "cv_df\n"
      ]
    },
    {
      "cell_type": "markdown",
      "metadata": {
        "id": "zHAvZiS1i-d7"
      },
      "source": [
        "# 3) Análise dos resultado\n",
        "\n",
        "Após a execução do treinamento e validação, você deve coletar as métricas de validação para problemas de classificação e compará-las entre os algoritmos.\n",
        "\n",
        "Você deve coletar e plotar as métricas:\n",
        "\n",
        "- Acurácia;\n",
        "- Precisão;\n",
        "- Recall;\n",
        "- F1-Score;\n",
        "- Matriz de confusão;\n",
        "\n",
        "Após a plotagem dos resultado de forma gráfica, análise os resultados e tente identificar possíveis problemas de overfitting/underfitting, bem como os melhores algoritmos.\n"
      ]
    },
    {
      "cell_type": "markdown",
      "metadata": {},
      "source": [
        "> 3.1 Coleta das métricas de validação\n"
      ]
    },
    {
      "cell_type": "code",
      "execution_count": 55,
      "metadata": {},
      "outputs": [
        {
          "data": {
            "text/html": [
              "<div>\n",
              "<style scoped>\n",
              "    .dataframe tbody tr th:only-of-type {\n",
              "        vertical-align: middle;\n",
              "    }\n",
              "\n",
              "    .dataframe tbody tr th {\n",
              "        vertical-align: top;\n",
              "    }\n",
              "\n",
              "    .dataframe thead th {\n",
              "        text-align: right;\n",
              "    }\n",
              "</style>\n",
              "<table border=\"1\" class=\"dataframe\">\n",
              "  <thead>\n",
              "    <tr style=\"text-align: right;\">\n",
              "      <th></th>\n",
              "      <th>accuracy</th>\n",
              "      <th>precision</th>\n",
              "      <th>recall</th>\n",
              "      <th>f1</th>\n",
              "    </tr>\n",
              "  </thead>\n",
              "  <tbody>\n",
              "    <tr>\n",
              "      <th>RandomForest</th>\n",
              "      <td>0.773</td>\n",
              "      <td>0.746</td>\n",
              "      <td>0.690</td>\n",
              "      <td>0.715</td>\n",
              "    </tr>\n",
              "    <tr>\n",
              "      <th>MLP</th>\n",
              "      <td>0.762</td>\n",
              "      <td>0.756</td>\n",
              "      <td>0.640</td>\n",
              "      <td>0.687</td>\n",
              "    </tr>\n",
              "    <tr>\n",
              "      <th>DecisionTree</th>\n",
              "      <td>0.721</td>\n",
              "      <td>0.662</td>\n",
              "      <td>0.675</td>\n",
              "      <td>0.667</td>\n",
              "    </tr>\n",
              "    <tr>\n",
              "      <th>LogisticRegression</th>\n",
              "      <td>0.730</td>\n",
              "      <td>0.728</td>\n",
              "      <td>0.571</td>\n",
              "      <td>0.637</td>\n",
              "    </tr>\n",
              "  </tbody>\n",
              "</table>\n",
              "</div>"
            ],
            "text/plain": [
              "                    accuracy  precision  recall     f1\n",
              "RandomForest           0.773      0.746   0.690  0.715\n",
              "MLP                    0.762      0.756   0.640  0.687\n",
              "DecisionTree           0.721      0.662   0.675  0.667\n",
              "LogisticRegression     0.730      0.728   0.571  0.637"
            ]
          },
          "execution_count": 55,
          "metadata": {},
          "output_type": "execute_result"
        }
      ],
      "source": [
        "cv_summary = cv_df.sort_values(by=\"f1\", ascending=False)\n",
        "cv_summary\n"
      ]
    },
    {
      "cell_type": "markdown",
      "metadata": {},
      "source": [
        "> 3.2 Plotagem do resutaldos em gráficos\n"
      ]
    },
    {
      "cell_type": "code",
      "execution_count": 56,
      "metadata": {},
      "outputs": [
        {
          "data": {
            "image/png": "[encoded data removed]",
            "text/plain": [
              "<Figure size 1200x800 with 4 Axes>"
            ]
          },
          "metadata": {},
          "output_type": "display_data"
        }
      ],
      "source": [
        "fig, axes = plt.subplots(2, 2, figsize=(12, 8))\n",
        "for ax, metric in zip(axes.flatten(), scoring):\n",
        "    cv_df[metric].plot(kind=\"bar\", ax=ax, rot=0)\n",
        "    ax.set_title(metric.capitalize())\n",
        "    ax.set_ylim(0, 1)\n",
        "    ax.grid(axis=\"y\", linestyle=\"--\", alpha=0.6)\n",
        "\n",
        "plt.suptitle(\"Desempenho Médio (Cross-Validation - 5 folds)\", fontsize=14)\n",
        "plt.tight_layout()\n",
        "plt.show()\n"
      ]
    },
    {
      "cell_type": "markdown",
      "metadata": {},
      "source": [
        "> 3.3 Análise textual dos resultados\n"
      ]
    },
    {
      "cell_type": "code",
      "execution_count": 57,
      "metadata": {},
      "outputs": [
        {
          "name": "stdout",
          "output_type": "stream",
          "text": [
            "O modelo com melhor desempenho médio em F1 foi: RandomForest (0.715).\n",
            "Resumo das observações:\n",
            "- Árvores de Decisão: interpretáveis, risco de overfitting.\n",
            "- MLP: capta padrões complexos, exige ajuste fino.\n",
            "- Random Forest: robusto e geralmente equilibrado.\n",
            "- Regressão Logística: baseline eficiente para classificação binária.\n"
          ]
        }
      ],
      "source": [
        "best_model = cv_summary.index[0]\n",
        "best_f1 = cv_summary.loc[best_model, \"f1\"]\n",
        "\n",
        "print(f\"O modelo com melhor desempenho médio em F1 foi: {best_model} ({best_f1:.3f}).\")\n",
        "print(\"Resumo das observações:\")\n",
        "print(\"- Árvores de Decisão: interpretáveis, risco de overfitting.\")\n",
        "print(\"- MLP: capta padrões complexos, exige ajuste fino.\")\n",
        "print(\"- Random Forest: robusto e geralmente equilibrado.\")\n",
        "print(\"- Regressão Logística: baseline eficiente para classificação binária.\")\n"
      ]
    },
    {
      "cell_type": "markdown",
      "metadata": {
        "id": "-Y_rLhF3r5Hu"
      },
      "source": [
        "# 4) Conclusão\n",
        "\n",
        "Conclua seu estudo indicando o melhor algoritmo (modelo de IA) para o problema e comente os resultados alcançados. No caso de resultados ruins, comente e formule hipóteses para as possíveis causas.\n"
      ]
    },
    {
      "cell_type": "markdown",
      "metadata": {
        "id": "8InPEwcwr_EO"
      },
      "source": [
        "### Insira sua conclusão aqui!\n",
        "\n",
        "##### Você pode adicionar células adicionais\n"
      ]
    },
    {
      "cell_type": "markdown",
      "metadata": {},
      "source": [
        "> Entre os quatro algoritmos avaliados, o Random Forest apresentou o melhor desempenho global, obtendo o maior F1-score e equilíbrio entre precisão e recall. A Árvore de Decisão, embora interpretável, mostrou maior risco de sobreajuste; o MLP obteve boa acurácia, mas com menor recall; e a Regressão Logística serviu como baseline, com resultados aceitáveis, porém inferiores. Assim, conclui-se que o Random Forest é o modelo mais adequado para o problema proposto, demonstrando robustez e maior capacidade de generalização frente às limitações do dataset utilizado.\n"
      ]
    },
    {
      "cell_type": "markdown",
      "metadata": {
        "id": "3yh9MW-9hiLc"
      },
      "source": [
        "# Check-List\n",
        "\n",
        "Com isso, você completa a fase 2 da disciplina. Para auxiliar você a verificar se o trabalho está adequado para a entrega, criamos uma lista de item que devem ser satisfeitos ao final do trabalho.\n",
        "\n",
        "- Utilização de 4 algoritmos de classificação, incluindo Árvore de decisão e MLP;\n",
        "- Exploração dos hiper parâmetros dos algoritmos;\n",
        "- Divisão do dataset em treino e teste, com estratificação na coluna alvo;\n",
        "- Validação dos algoritmos usando cross-validation e coleta das métricas de avaliação (acurácia, precisão, recall, f1, matriz de confusão);\n",
        "- Analise da matriz de confusão e métricas.\n",
        "- Plotagem e análise textual sobre os resultados, indicando melhor modelo de IA;\n",
        "- Conclusão do trabalho realizado, comentando os resultados e as dificuldades encontradas;\n"
      ]
    }
  ],
  "metadata": {
    "colab": {
      "provenance": [],
      "toc_visible": true
    },
    "kernelspec": {
      "display_name": "prog-dados",
      "language": "python",
      "name": "python3"
    },
    "language_info": {
      "codemirror_mode": {
        "name": "ipython",
        "version": 3
      },
      "file_extension": ".py",
      "mimetype": "text/x-python",
      "name": "python",
      "nbconvert_exporter": "python",
      "pygments_lexer": "ipython3",
      "version": "3.10.16"
    }
  },
  "nbformat": 4,
  "nbformat_minor": 0
}
